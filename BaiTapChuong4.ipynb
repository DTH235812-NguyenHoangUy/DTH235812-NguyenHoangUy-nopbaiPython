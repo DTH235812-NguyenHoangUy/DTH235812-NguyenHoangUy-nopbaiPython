{
 "cells": [
  {
   "cell_type": "code",
   "execution_count": null,
   "id": "67d9c498",
   "metadata": {},
   "outputs": [
    {
     "name": "stdout",
     "output_type": "stream",
     "text": [
      "dien tich tam giac\n",
      "Diện tích = 6.0\n"
     ]
    }
   ],
   "source": [
    "#cau1\n",
    "from math import sqrt\n",
    "print(\"dien tich tam giac\")\n",
    "a=float(input(\"Nhap a>0:\"))\n",
    "b=float(input(\"Nhap b>0:\"))\n",
    "c=float(input(\"Nhap c>0:\"))\n",
    "if (a<=0 or b <=0 or c <=0) or (a+b)<=c or (a+c)<=b or b+c<=a:\n",
    " print(\"tam giac khong hop le\")\n",
    "else:\n",
    " cv=a+b+c\n",
    " p=cv/2\n",
    " dt=sqrt(p*(p-a)*(p-b)*(p-c))\n",
    " print(\"dien tich =\",dt)\n"
   ]
  },
  {
   "cell_type": "code",
   "execution_count": 3,
   "id": "f8bcd7fa",
   "metadata": {},
   "outputs": [
    {
     "name": "stdout",
     "output_type": "stream",
     "text": [
      "chuong trinh tinh roi\n"
     ]
    },
    {
     "ename": "TypeError",
     "evalue": "'str' object is not callable",
     "output_type": "error",
     "traceback": [
      "\u001b[1;31m---------------------------------------------------------------------------\u001b[0m",
      "\u001b[1;31mTypeError\u001b[0m                                 Traceback (most recent call last)",
      "Cell \u001b[1;32mIn[3], line 14\u001b[0m\n\u001b[0;32m     12\u001b[0m dt\u001b[38;5;241m=\u001b[39m\u001b[38;5;28mint\u001b[39m(\u001b[38;5;28minput\u001b[39m(\u001b[38;5;124m\"\u001b[39m\u001b[38;5;124mNhap doanh thu\u001b[39m\u001b[38;5;124m\"\u001b[39m))\n\u001b[0;32m     13\u001b[0m cp\u001b[38;5;241m=\u001b[39m\u001b[38;5;28mint\u001b[39m(\u001b[38;5;28minput\u001b[39m(\u001b[38;5;124m\"\u001b[39m\u001b[38;5;124mnhap chi phi\u001b[39m\u001b[38;5;124m\"\u001b[39m))\n\u001b[1;32m---> 14\u001b[0m roi\u001b[38;5;241m=\u001b[39m\u001b[43mROW\u001b[49m\u001b[43m(\u001b[49m\u001b[43mdt\u001b[49m\u001b[43m,\u001b[49m\u001b[43mcp\u001b[49m\u001b[43m)\u001b[49m\n\u001b[0;32m     15\u001b[0m \u001b[38;5;28mprint\u001b[39m(\u001b[38;5;124m\"\u001b[39m\u001b[38;5;124mti le roi=\u001b[39m\u001b[38;5;124m\"\u001b[39m,roi)\n\u001b[0;32m     16\u001b[0m \u001b[38;5;28mprint\u001b[39m(\u001b[38;5;124m\"\u001b[39m\u001b[38;5;124mket qua \u001b[39m\u001b[38;5;124m\"\u001b[39m,GoiYDauTu(roi))\n",
      "\u001b[1;31mTypeError\u001b[0m: 'str' object is not callable"
     ]
    }
   ],
   "source": [
    "from tkinter.tix import ROW\n",
    "\n",
    "\n",
    "def roi(dt,cp):\n",
    "    return (dt-cp)/cp\n",
    "def GoiYDauTu(roi):\n",
    "    if roi>=0.75:\n",
    "        return \"nen dau tu\"\n",
    "    else:\n",
    "        return \"khong nen dau tu\"\n",
    "print(\"chuong trinh tinh roi\")\n",
    "dt=int(input(\"Nhap doanh thu\"))\n",
    "cp=int(input(\"nhap chi phi\"))\n",
    "roi=ROW(dt,cp)\n",
    "print(\"ti le roi=\",roi)\n",
    "print(\"ket qua \",GoiYDauTu(roi))"
   ]
  }
 ],
 "metadata": {
  "kernelspec": {
   "display_name": "Python 3",
   "language": "python",
   "name": "python3"
  },
  "language_info": {
   "codemirror_mode": {
    "name": "ipython",
    "version": 3
   },
   "file_extension": ".py",
   "mimetype": "text/x-python",
   "name": "python",
   "nbconvert_exporter": "python",
   "pygments_lexer": "ipython3",
   "version": "3.9.13"
  }
 },
 "nbformat": 4,
 "nbformat_minor": 5
}
