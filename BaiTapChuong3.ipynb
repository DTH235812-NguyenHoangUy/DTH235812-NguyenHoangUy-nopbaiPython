{
 "cells": [
  {
   "cell_type": "code",
   "execution_count": null,
   "id": "7af302f8",
   "metadata": {},
   "outputs": [
    {
     "name": "stdout",
     "output_type": "stream",
     "text": [
      "Chuong trinh kiem tra nam nhuan\n"
     ]
    }
   ],
   "source": [
    "print(\"Chuong trinh kiem tra nam nhuan\")\n",
    "year = int(input(\"Moi nhap vao 1 nam:\"))\n",
    "if (year % 4 == 0 and year % 100 != 0) or year % 400 == 0:\n",
    "    print(\"Nam\", year, \"la nam nhuan\")\n",
    "else:\n",
    "    print(\"Nam\", year, \"khong nhuan\")   "
   ]
  },
  {
   "cell_type": "code",
   "execution_count": 1,
   "id": "0c35fabe",
   "metadata": {},
   "outputs": [
    {
     "name": "stdout",
     "output_type": "stream",
     "text": [
      "Chuong trinh kiem tra nam nhuan\n",
      "Nam 2 khong nhuan\n"
     ]
    }
   ],
   "source": [
    "print(\"Chuong trinh kiem tra nam nhuan\")\n",
    "year = int(input(\"Moi nhap vao 1 nam:\"))\n",
    "if (year % 4 == 0 and year % 100 != 0) or year % 400 == 0:\n",
    "    print(\"Nam\", year, \"la nam nhuan\")\n",
    "else:\n",
    "    print(\"Nam\", year, \"khong nhuan\")  "
   ]
  },
  {
   "cell_type": "code",
   "execution_count": null,
   "id": "e367d5eb",
   "metadata": {},
   "outputs": [
    {
     "name": "stdout",
     "output_type": "stream",
     "text": [
      "Chuong trinh dem so ngay trong thang\n",
      "Thang 7 co 31 ngay\n",
      "Thang 7 co 31 ngay\n"
     ]
    }
   ],
   "source": [
    "print(\"Chuong trinh dem so ngay trong thang\")\n",
    "month = int(input(\"Moi nhap vao 1 thang:\"))\n",
    "if month in (1,3,5,7,8,10,12):\n",
    "    print(\"Thang\", month, \"co 31 ngay\")\n",
    "elif month in (4,6,9,11):\n",
    "    print(\"Thang\", month, \"co 30 ngay\")\n",
    "elif month == 2:\n",
    "    year = int(input(\"Moi nhap vao nam:\"))\n",
    "    if (year % 4 == 0 and year % 100 != 0) or year % 400 == 0:\n",
    "        print(\"Thang\", month, \"co 29 ngay\")\n",
    "    else:\n",
    "        print(\"Thang\", month, \"co 28 ngay\")\n",
    "else:\n",
    "    print(\"Thang\", month, \"khong hop le\")"
   ]
  },
  {
   "cell_type": "code",
   "execution_count": null,
   "id": "7af2d0c2",
   "metadata": {},
   "outputs": [
    {
     "name": "stdout",
     "output_type": "stream",
     "text": [
      "(a) True\n",
      "(b) True\n",
      "(c) False\n",
      "(d) True\n",
      "(e) False\n",
      "(f) True\n",
      "(g) True\n",
      "(h) False\n",
      "(i) False\n",
      "(j) True\n",
      "(k) True\n",
      "(l) False\n"
     ]
    }
   ],
   "source": [
    "x, y, z = 3, 5, 7\n",
    "print(\"(a)\", x == 3)\n",
    "print(\"(b)\", x < y)\n",
    "print(\"(c)\", x >= y)\n",
    "print(\"(d)\", x <= y)\n",
    "print(\"(e)\", x != y - 2)\n",
    "print(\"(f)\", x < 10)\n",
    "print(\"(g)\", x >= 0 and x < 10)\n",
    "print(\"(h)\", x < 0 and x < 10)\n",
    "print(\"(i)\", x >= 0 and x < 2)\n",
    "print(\"(j)\", x < 0 or x < 10)\n",
    "print(\"(k)\", x > 0 or x < 10)\n",
    "print(\"(l)\", x < 0 or x > 10)"
   ]
  },
  {
   "cell_type": "code",
   "execution_count": null,
   "id": "18572d4f",
   "metadata": {},
   "outputs": [
    {
     "name": "stdout",
     "output_type": "stream",
     "text": [
      "nam\n"
     ]
    }
   ],
   "source": [
    "n = int(input(\"Moi nhap so n (toi da 2 chu so): \"))\n",
    "donvi = [\"\", \"mot\", \"hai\", \"ba\", \"bon\", \"nam\", \"sau\", \"bay\", \"tam\", \"chin\"]\n",
    "hangchuc = [\"\", \"muoi\", \"hai muoi\", \"ba muoi\", \"bon muoi\", \"nam muoi\", \"sau muoi\", \"bay muoi\", \"tam muoi\", \"chin muoi\"]\n",
    "\n",
    "if n < 10:\n",
    "    print(donvi[n])\n",
    "elif n < 100:\n",
    "    chuc = n // 10\n",
    "    dv = n % 10\n",
    "    if dv == 0:\n",
    "        print(hangchuc[chuc])\n",
    "    else:\n",
    "        print(hangchuc[chuc], donvi[dv])\n",
    "else:\n",
    "    print(\"Chi nhap so co toi da 2 chu so\")"
   ]
  },
  {
   "cell_type": "code",
   "execution_count": null,
   "id": "3eb9b7ac",
   "metadata": {},
   "outputs": [
    {
     "name": "stdout",
     "output_type": "stream",
     "text": [
      "Ngay ke tiep: 7 / 5 / 6\n"
     ]
    }
   ],
   "source": [
    "ngay = int(input(\"Moi nhap ngay: \"))\n",
    "thang = int(input(\"Moi nhap thang: \"))\n",
    "nam = int(input(\"Moi nhap nam: \"))\n",
    "\n",
    "def so_ngay_trong_thang(thang, nam):\n",
    "    if thang in (1,3,5,7,8,10,12):\n",
    "        return 31\n",
    "    elif thang in (4,6,9,11):\n",
    "        return 30\n",
    "    elif thang == 2:\n",
    "        if (nam % 4 == 0 and nam % 100 != 0) or nam % 400 == 0:\n",
    "            return 29\n",
    "        else:\n",
    "            return 28\n",
    "    else:\n",
    "        return 0\n",
    "\n",
    "ngay += 1\n",
    "if ngay > so_ngay_trong_thang(thang, nam):\n",
    "    ngay = 1\n",
    "    thang += 1\n",
    "    if thang > 12:\n",
    "        thang = 1\n",
    "        nam += 1\n",
    "print(\"Ngay ke tiep:\", ngay, \"/\", thang, \"/\", nam)"
   ]
  },
  {
   "cell_type": "code",
   "execution_count": null,
   "id": "2d47190d",
   "metadata": {},
   "outputs": [
    {
     "name": "stdout",
     "output_type": "stream",
     "text": [
      "Phep toan khong hop le\n"
     ]
    }
   ],
   "source": [
    "a = float(input(\"Moi nhap a: \"))\n",
    "b = float(input(\"Moi nhap b: \"))\n",
    "op = input(\"Moi nhap phep toan (+, -, *, /): \")\n",
    "if op == \"+\":\n",
    "    print(\"Ket qua:\", a + b)\n",
    "elif op == \"-\":\n",
    "    print(\"Ket qua:\", a - b)\n",
    "elif op == \"*\":\n",
    "    print(\"Ket qua:\", a * b)\n",
    "elif op == \"/\":\n",
    "    if b != 0:\n",
    "        print(\"Ket qua:\", a / b)\n",
    "    else:\n",
    "        print(\"Khong chia duoc cho 0\")\n",
    "else:\n",
    "    print(\"Phep toan khong hop le\")"
   ]
  },
  {
   "cell_type": "code",
   "execution_count": null,
   "id": "2fb6ce25",
   "metadata": {},
   "outputs": [],
   "source": [
    "thang = int(input(\"Moi nhap thang: \"))\n",
    "if 1 <= thang <= 3:\n",
    "    print(\"Thang\", thang, \"thuoc quy 1\")\n",
    "elif 4 <= thang <= 6:\n",
    "    print(\"Thang\", thang, \"thuoc quy 2\")\n",
    "elif 7 <= thang <= 9:\n",
    "    print(\"Thang\", thang, \"thuoc quy 3\")\n",
    "elif 10 <= thang <= 12:\n",
    "    print(\"Thang\", thang, \"thuoc quy 4\")\n",
    "else:\n",
    "    print(\"Thang khong hop le\")"
   ]
  },
  {
   "cell_type": "code",
   "execution_count": 1,
   "id": "04da1192",
   "metadata": {},
   "outputs": [
    {
     "name": "stdout",
     "output_type": "stream",
     "text": [
      "Bang cuu chuong 2\n",
      "2 x 1 = 2\n",
      "2 x 2 = 4\n",
      "2 x 3 = 6\n",
      "2 x 4 = 8\n",
      "2 x 5 = 10\n",
      "2 x 6 = 12\n",
      "2 x 7 = 14\n",
      "2 x 8 = 16\n",
      "2 x 9 = 18\n",
      "2 x 10 = 20\n",
      "\n",
      "Bang cuu chuong 3\n",
      "3 x 1 = 3\n",
      "3 x 2 = 6\n",
      "3 x 3 = 9\n",
      "3 x 4 = 12\n",
      "3 x 5 = 15\n",
      "3 x 6 = 18\n",
      "3 x 7 = 21\n",
      "3 x 8 = 24\n",
      "3 x 9 = 27\n",
      "3 x 10 = 30\n",
      "\n",
      "Bang cuu chuong 4\n",
      "4 x 1 = 4\n",
      "4 x 2 = 8\n",
      "4 x 3 = 12\n",
      "4 x 4 = 16\n",
      "4 x 5 = 20\n",
      "4 x 6 = 24\n",
      "4 x 7 = 28\n",
      "4 x 8 = 32\n",
      "4 x 9 = 36\n",
      "4 x 10 = 40\n",
      "\n",
      "Bang cuu chuong 5\n",
      "5 x 1 = 5\n",
      "5 x 2 = 10\n",
      "5 x 3 = 15\n",
      "5 x 4 = 20\n",
      "5 x 5 = 25\n",
      "5 x 6 = 30\n",
      "5 x 7 = 35\n",
      "5 x 8 = 40\n",
      "5 x 9 = 45\n",
      "5 x 10 = 50\n",
      "\n",
      "Bang cuu chuong 6\n",
      "6 x 1 = 6\n",
      "6 x 2 = 12\n",
      "6 x 3 = 18\n",
      "6 x 4 = 24\n",
      "6 x 5 = 30\n",
      "6 x 6 = 36\n",
      "6 x 7 = 42\n",
      "6 x 8 = 48\n",
      "6 x 9 = 54\n",
      "6 x 10 = 60\n",
      "\n",
      "Bang cuu chuong 7\n",
      "7 x 1 = 7\n",
      "7 x 2 = 14\n",
      "7 x 3 = 21\n",
      "7 x 4 = 28\n",
      "7 x 5 = 35\n",
      "7 x 6 = 42\n",
      "7 x 7 = 49\n",
      "7 x 8 = 56\n",
      "7 x 9 = 63\n",
      "7 x 10 = 70\n",
      "\n",
      "Bang cuu chuong 8\n",
      "8 x 1 = 8\n",
      "8 x 2 = 16\n",
      "8 x 3 = 24\n",
      "8 x 4 = 32\n",
      "8 x 5 = 40\n",
      "8 x 6 = 48\n",
      "8 x 7 = 56\n",
      "8 x 8 = 64\n",
      "8 x 9 = 72\n",
      "8 x 10 = 80\n",
      "\n",
      "Bang cuu chuong 9\n",
      "9 x 1 = 9\n",
      "9 x 2 = 18\n",
      "9 x 3 = 27\n",
      "9 x 4 = 36\n",
      "9 x 5 = 45\n",
      "9 x 6 = 54\n",
      "9 x 7 = 63\n",
      "9 x 8 = 72\n",
      "9 x 9 = 81\n",
      "9 x 10 = 90\n",
      "\n"
     ]
    }
   ],
   "source": [
    "for i in range(2, 10):\n",
    "    print(\"Bang cuu chuong\", i)\n",
    "    for j in range(1, 11):\n",
    "        print(i, \"x\", j, \"=\", i * j)\n",
    "    print()"
   ]
  },
  {
   "cell_type": "markdown",
   "id": "8a76e003",
   "metadata": {},
   "source": [
    "### Cau 15: Giai thich cach chay cac dong lenh range\n",
    "- (a) `range(5)` : Tu 0 den 4 (step mac dinh la 1).\n",
    "- (b) `range(5, 10)` : Tu 5 den 9 (step mac dinh la 1).\n",
    "- (c) `range(5, 20, 3)` : Tu 5 den 17, tang 3 moi lan (5, 8, 11, 14, 17).\n",
    "- (d) `range(20, 5, -1)` : Tu 20 den 6, giam 1 moi lan (20, 19, ..., 6).\n",
    "- (e) `range(20, 5, -3)` : Tu 20 den 8, giam 3 moi lan (20, 17, 14, 11, 8).\n",
    "- (f) `range(10, 5)` : Khong co phan tu vi step mac dinh la 1, bat dau > ket thuc.\n",
    "- (g) `range(0)` : Khong co phan tu.\n",
    "- (h) `range(10, 101, 10)` : Tu 10 den 100, tang 10 moi lan (10, 20, ..., 100).\n",
    "- (i) `range(10, -1, -1)` : Tu 10 den 0, giam 1 moi lan (10, 9, ..., 0).\n",
    "- (j) `range(-3, 4)` : Tu -3 den 3, tang 1 moi lan (-3, -2, ..., 3).\n",
    "- (k) `range(0, 10, 1)` : Tu 0 den 9, tang 1 moi lan (0, 1, ..., 9)."
   ]
  },
  {
   "cell_type": "code",
   "execution_count": 2,
   "id": "34f83809",
   "metadata": {},
   "outputs": [
    {
     "name": "stdout",
     "output_type": "stream",
     "text": [
      "[0, 1, 2, 3, 4]\n",
      "[5, 6, 7, 8, 9]\n",
      "[5, 8, 11, 14, 17]\n",
      "[20, 19, 18, 17, 16, 15, 14, 13, 12, 11, 10, 9, 8, 7, 6]\n",
      "[20, 17, 14, 11, 8]\n",
      "[]\n",
      "[]\n",
      "[10, 20, 30, 40, 50, 60, 70, 80, 90, 100]\n",
      "[10, 9, 8, 7, 6, 5, 4, 3, 2, 1, 0]\n",
      "[-3, -2, -1, 0, 1, 2, 3]\n",
      "[0, 1, 2, 3, 4, 5, 6, 7, 8, 9]\n"
     ]
    }
   ],
   "source": [
    "print(list(range(5)))\n",
    "print(list(range(5, 10)))\n",
    "print(list(range(5, 20, 3)))\n",
    "print(list(range(20, 5, -1)))\n",
    "print(list(range(20, 5, -3)))\n",
    "print(list(range(10, 5)))\n",
    "print(list(range(0)))\n",
    "print(list(range(10, 101, 10)))\n",
    "print(list(range(10, -1, -1)))\n",
    "print(list(range(-3, 4)))\n",
    "print(list(range(0, 10, 1)))"
   ]
  },
  {
   "cell_type": "code",
   "execution_count": null,
   "id": "fa2e8417",
   "metadata": {},
   "outputs": [],
   "source": [
    "count = 0\n",
    "for a in range(20, 100, 5):\n",
    "    print(\"*\", end=\"\")\n",
    "    count += 1\n",
    "print()\n",
    "print(\"So dau * la:\", count)"
   ]
  },
  {
   "cell_type": "code",
   "execution_count": null,
   "id": "e18f2566",
   "metadata": {},
   "outputs": [],
   "source": [
    "n, m = 0, 100\n",
    "while n != m:\n",
    "    n = int(input())\n",
    "    if n < 0:\n",
    "        print(\"n =\", n)\n",
    "        break"
   ]
  }
 ],
 "metadata": {
  "kernelspec": {
   "display_name": "Python 3",
   "language": "python",
   "name": "python3"
  },
  "language_info": {
   "codemirror_mode": {
    "name": "ipython",
    "version": 3
   },
   "file_extension": ".py",
   "mimetype": "text/x-python",
   "name": "python",
   "nbconvert_exporter": "python",
   "pygments_lexer": "ipython3",
   "version": "3.9.13"
  }
 },
 "nbformat": 4,
 "nbformat_minor": 5
}
