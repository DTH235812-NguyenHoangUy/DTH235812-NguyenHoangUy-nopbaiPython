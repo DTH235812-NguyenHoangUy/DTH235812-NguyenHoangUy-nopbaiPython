{
 "cells": [
  {
   "cell_type": "code",
   "execution_count": 9,
   "id": "7a032a74",
   "metadata": {},
   "outputs": [
    {
     "name": "stdout",
     "output_type": "stream",
     "text": [
      "12:0:3 AM\n"
     ]
    }
   ],
   "source": [
    "try:\n",
    "    t = int(input(\"Nhập vao so giay bat ky : \"))\n",
    "    gio = t // 3600\n",
    "    phut = (t % 3600) // 60\n",
    "    giay = t % 60\n",
    "    if gio >= 12:\n",
    "        period = \"PM\"\n",
    "        gio_hienthi = gio - 12 if gio > 12 else gio\n",
    "        if gio_hienthi == 0: gio_hienthi = 12\n",
    "    else:\n",
    "        period = \"AM\"\n",
    "        gio_hienthi = gio if gio != 0 else 12\n",
    "    print(f\"{gio_hienthi}:{phut}:{giay} {period}\")\n",
    "except:\n",
    "    print(\"loi nhap du lieu!\")  "
   ]
  },
  {
   "cell_type": "code",
   "execution_count": 1,
   "id": "179a64d2",
   "metadata": {},
   "outputs": [
    {
     "name": "stdout",
     "output_type": "stream",
     "text": [
      "12:0:7 AM\n"
     ]
    }
   ],
   "source": [
    "try:\n",
    "    t = int(input(\"Nhập vao so giay bat ky : \"))\n",
    "    gio = t // 3600\n",
    "    phut = (t % 3600) // 60\n",
    "    giay = t % 60\n",
    "    if gio >= 12:\n",
    "        period = \"PM\"\n",
    "        gio_hienthi = gio - 12 if gio > 12 else gio\n",
    "        if gio_hienthi == 0: gio_hienthi = 12\n",
    "    else:\n",
    "        period = \"AM\"\n",
    "        gio_hienthi = gio if gio != 0 else 12\n",
    "    print(f\"{gio_hienthi}:{phut}:{giay} {period}\")\n",
    "except:\n",
    "    print(\"loi nhap du lieu!\")  "
   ]
  },
  {
   "cell_type": "code",
   "execution_count": null,
   "id": "6f4b22e7",
   "metadata": {},
   "outputs": [],
   "source": [
    "print(\"Hello, World!\")"
   ]
  },
  {
   "cell_type": "code",
   "execution_count": 10,
   "id": "e1a8489a",
   "metadata": {},
   "outputs": [
    {
     "name": "stdout",
     "output_type": "stream",
     "text": [
      "chu vi = 25.132741228718345\n",
      "dien tich= 16.0\n"
     ]
    }
   ],
   "source": [
    "import math\n",
    "try:\n",
    " r=float(input(\"Mời bạn nhập bán kính hình tròn:\"))\n",
    " cv=2*math.pi*r\n",
    " dt=r**2\n",
    " print(\"chu vi =\",cv)\n",
    " print(\"dien tich=\",dt)\n",
    "except:\n",
    " print(\"Loi roi!\")\n"
   ]
  },
  {
   "cell_type": "code",
   "execution_count": 11,
   "id": "435e356c",
   "metadata": {},
   "outputs": [
    {
     "name": "stdout",
     "output_type": "stream",
     "text": [
      "diem trung binh = 6.166666666666667\n",
      "diem trung binh = 6.17\n"
     ]
    }
   ],
   "source": [
    "try:\n",
    "    toan = float(input(\"Nhap diem toan:\"))\n",
    "    ly = float(input(\"Nhap diem ly:\"))\n",
    "    hoa = float(input(\"Nhap diem hoa:\"))\n",
    "    dtb = (toan + ly + hoa) / 3\n",
    "    print(\"diem trung binh =\", dtb)\n",
    "    print(\"diem trung binh =\", round(dtb, 2))\n",
    "except:\n",
    "    print(\"loi nhap diem!\")"
   ]
  },
  {
   "cell_type": "markdown",
   "id": "1faa9b4c",
   "metadata": {},
   "source": [
    "### Câu 4: Python hỗ trợ những kiểu dữ liệu cơ bản nào?\n",
    "- Số nguyên (int)\n",
    "- Số thực (float)\n",
    "- Chuỗi (str)\n",
    "- Boolean (bool)\n",
    "- Danh sách (list)\n",
    "- Tuple (tuple)\n",
    "- Tập hợp (set)\n",
    "- Từ điển (dict)\n",
    "\n",
    "### Câu 5: Trình bày các loại ghi chú trong Python.\n",
    "- Ghi chú một dòng: sử dụng ký tự `#`\n",
    "  ```python\n",
    "  # Đây là ghi chú một dòng\n",
    "  ```\n",
    "- Ghi chú nhiều dòng: sử dụng cặp dấu nháy đơn hoặc nháy kép ba lần\n",
    "  ```python\n",
    "  '''\n",
    "  Đây là ghi chú nhiều dòng\n",
    "  '''\n",
    "  \"\"\"\n",
    "  Đây cũng là ghi chú nhiều dòng\n",
    "  \"\"\"\n",
    "  ```\n",
    "\n",
    "### Câu 6: Trình bày ý nghĩa toán tử `/`, `//`, `%`, `**`, `and`, `or`, `is`.\n",
    "- `/`: Chia lấy kết quả số thực.\n",
    "- `//`: Chia lấy phần nguyên.\n",
    "- `%`: Chia lấy phần dư.\n",
    "- `**`: Lũy thừa.\n",
    "- `and`: Toán tử logic 'và'.\n",
    "- `or`: Toán tử logic 'hoặc'.\n",
    "- `is`: So sánh đối tượng có cùng vị trí bộ nhớ không.\n",
    "\n",
    "### Câu 7: Trình bày một số cách nhập dữ liệu từ bàn phím.\n",
    "- Sử dụng hàm `input()`:\n",
    "  ```python\n",
    "  x = input(\"Nhập dữ liệu: \")\n",
    "  ```\n",
    "- Nhập và ép kiểu:\n",
    "  ```python\n",
    "  a = int(input(\"Nhập số nguyên: \"))\n",
    "  b = float(input(\"Nhập số thực: \"))\n",
    "  ```\n",
    "\n",
    "### Câu 8: Trình bày các loại lỗi khi lập trình và cách bắt lỗi trong Python.\n",
    "- Lỗi cú pháp (SyntaxError)\n",
    "- Lỗi khi chạy chương trình (RuntimeError)\n",
    "- Lỗi logic (LogicError)\n",
    "\n",
    "Cách bắt lỗi: sử dụng khối `try...except`\n",
    "```python\n",
    "try:\n",
    "    # code có thể gây lỗi\n",
    "except Exception as e:\n",
    "    print(\"Có lỗi xảy ra:\", e)\n",
    "```"
   ]
  },
  {
   "cell_type": "code",
   "execution_count": 12,
   "id": "1a62c516",
   "metadata": {},
   "outputs": [
    {
     "name": "stdout",
     "output_type": "stream",
     "text": [
      "(a) -13\n",
      "(b) 4\n",
      "(c) 1.0\n",
      "(d) 1\n",
      "(e) -2.6\n",
      "(f) -3\n",
      "(g) 8.666666666666666\n",
      "(h) 8\n",
      "(i) 4.0\n",
      "(j) 4\n",
      "(k) -0.5\n",
      "(l) -0.5\n",
      "(m) 0.9\n",
      "(n) 0.36363636363636365\n",
      "(o) 6.833333333333333\n",
      "(p) 2.1666666666666665\n",
      "(q) 6.833333333333333\n",
      "(r) 52.5\n"
     ]
    }
   ],
   "source": [
    "\n",
    "i1 = 2\n",
    "i2 = 5\n",
    "i3 = -3\n",
    "d1 = 2.0\n",
    "d2 = 5.0\n",
    "d3 = -0.5\n",
    "print('(a)', i1 + (i2 * i3))\n",
    "print('(b)', i1 * (i2 + i3))\n",
    "print('(c)', i1 / (i2 + i3))\n",
    "print('(d)', i1 // (i2 + i3))\n",
    "print('(e)', i1 / i2 + i3)\n",
    "print('(f)', i1 // i2 + i3)\n",
    "print('(g)', 3 + 4 + 5 / 3)\n",
    "print('(h)', 3 + 4 + 5 // 3)\n",
    "print('(i)', (3 + 4 + 5) / 3)\n",
    "print('(j)', (3 + 4 + 5) // 3)\n",
    "print('(k)', d1 + (d2 * d3))\n",
    "print('(l)', d1 + d2 * d3)\n",
    "print('(m)', d1 / d2 - d3)\n",
    "print('(n)', d1 / (d2 - d3))\n",
    "print('(o)', d1 + d2 + d3 / 3)\n",
    "print('(p)', (d1 + d2 + d3) / 3)\n",
    "print('(q)', d1 + d2 + (d3 / 3))\n",
    "print('(r)', 3 * (d1 + d2) * (d1 - d3))"
   ]
  },
  {
   "cell_type": "code",
   "execution_count": 17,
   "id": "5c2596a0",
   "metadata": {},
   "outputs": [
    {
     "name": "stdout",
     "output_type": "stream",
     "text": [
      "x = 0\n",
      "number_of_closed_cases = 0\n"
     ]
    }
   ],
   "source": [
    "x = 0\n",
    "y = 0\n",
    "ncc = 0\n",
    "number_of_closed_cases = 0\n",
    "print(\"x =\", x)\n",
    "x += 1      \n",
    "x /= 2     \n",
    "x -= 1     \n",
    "x += y      \n",
    "x -= (y + 7) \n",
    "x *= 2      \n",
    "number_of_closed_cases += 2 * ncc  \n",
    "print(\"number_of_closed_cases =\", number_of_closed_cases)"
   ]
  }
 ],
 "metadata": {
  "kernelspec": {
   "display_name": "Python 3",
   "language": "python",
   "name": "python3"
  },
  "language_info": {
   "codemirror_mode": {
    "name": "ipython",
    "version": 3
   },
   "file_extension": ".py",
   "mimetype": "text/x-python",
   "name": "python",
   "nbconvert_exporter": "python",
   "pygments_lexer": "ipython3",
   "version": "3.9.13"
  }
 },
 "nbformat": 4,
 "nbformat_minor": 5
}
